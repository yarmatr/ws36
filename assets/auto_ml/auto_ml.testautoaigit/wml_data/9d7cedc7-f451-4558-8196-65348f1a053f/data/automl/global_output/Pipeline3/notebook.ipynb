{
  "cells": [
    {
      "cell_type": "markdown",
      "metadata": {},
      "source": [
        "![image](https://github.com/IBM/watson-machine-learning-samples/raw/master/cloud/notebooks/headers/AutoAI-Banner_Pipeline-Notebook.png)\n",
        "# Pipeline 4 Notebook - AutoAI Notebook v1.16.3\n",
        "\n",
        "Consider these tips for working with an auto-generated notebook:\n",
        "- Notebook code generated using AutoAI will execute successfully. If you modify the notebook, we cannot guarantee it will run successfully.\n",
        "- This pipeline is optimized for the original data set. The pipeline might fail or produce sub-optimum results if used with different data.  If you want to use a different data set, consider retraining the AutoAI experiment to generate a new pipeline. For more information, see <a href=\"https://www.ibm.com/support/producthub/icpdata/docs/content/SSQNUZ_latest/wsj/analyze-data/autoai-notebook.html\">Cloud Pak for Data</a>. \n",
        "- Before modifying the pipeline or trying to re-fit the pipeline, consider that the code converts dataframes to numpy arrays before fitting the pipeline (a current restriction of the preprocessor pipeline).\n"
      ]
    },
    {
      "cell_type": "markdown",
      "metadata": {},
      "source": [
        "<a id=\"content\"></a>\n",
        "## Notebook content\n",
        "\n",
        "This notebook contains a Scikit-learn representation of AutoAI pipeline. This notebook introduces commands for getting data, training the model, and testing the model. \n",
        "\n",
        "Some familiarity with Python is helpful. This notebook uses Python 3.9 and scikit-learn 1.0.2."
      ]
    },
    {
      "cell_type": "markdown",
      "metadata": {
        "pycharm": {
          "name": "#%% md\n"
        }
      },
      "source": [
        "## Notebook goals\n",
        "\n",
        "-  Scikit-learn pipeline definition\n",
        "-  Pipeline training \n",
        "-  Pipeline evaluation\n",
        "\n",
        "## Contents\n",
        "\n",
        "This notebook contains the following parts:\n",
        "\n",
        "**[Setup](#setup)**<br>\n",
        "&nbsp;&nbsp;[Package installation](#install)<br>\n",
        "&nbsp;&nbsp;[AutoAI experiment metadata](#variables_definition)<br>\n",
        "&nbsp;&nbsp;[Watson Machine Learning connection](#connection)<br>\n",
        "**[Pipeline inspection](#inspection)** <br>\n",
        "&nbsp;&nbsp;[Read training data](#read)<br>\n",
        "&nbsp;&nbsp;[Train and test data split](#split)<br>\n",
        "&nbsp;&nbsp;[Make pipeline](#preview_model_to_python_code)<br>\n",
        "&nbsp;&nbsp;[Train pipeline model](#train)<br>\n",
        "&nbsp;&nbsp;[Test pipeline model](#test_model)<br>\n",
        "**[Summary and next steps](#summary_and_next_steps)**<br>\n",
        "**[Copyrights](#copyrights)**"
      ]
    },
    {
      "cell_type": "markdown",
      "metadata": {},
      "source": [
        "<a id=\"setup\"></a>\n",
        "# Setup"
      ]
    },
    {
      "cell_type": "markdown",
      "metadata": {},
      "source": [
        "<a id=\"install\"></a>\n",
        "## Package installation\nBefore you use the sample code in this notebook, install the following packages:\n",
        " - ibm_watson_machine_learning,\n",
        " - autoai-libs,\n",
        " - scikit-learn,\n",
        " - snapml.\n"
      ]
    },
    {
      "cell_type": "code",
      "execution_count": null,
      "metadata": {
        "execution": {
          "iopub.execute_input": "2020-10-12T14:00:45.009458Z",
          "iopub.status.busy": "2020-10-12T14:00:45.007968Z",
          "iopub.status.idle": "2020-10-12T14:00:46.037702Z",
          "shell.execute_reply": "2020-10-12T14:00:46.038270Z"
        },
        "pycharm": {
          "name": "#%%\n"
        },
        "scrolled": true
      },
      "outputs": [],
      "source": [
        "!pip install -U ibm-watson-machine-learning | tail -n 1\n",
        "!pip install -U autoai-libs==1.13.4 | tail -n 1\n",
        "!pip install -U scikit-learn==1.0.2 | tail -n 1\n",
        "!pip install -U 'snapml>=1.8.3,<1.9.0' | tail -n 1"
      ]
    },
    {
      "cell_type": "markdown",
      "metadata": {},
      "source": [
        "<a id=\"variables_definition\"></a>\n",
        "## AutoAI experiment metadata\n",
        "The following cell contains the training data connection details.  \n",
        "**Note**: The connection might contain authorization credentials, so be careful when sharing the notebook."
      ]
    },
    {
      "cell_type": "code",
      "execution_count": null,
      "metadata": {
        "execution": {
          "iopub.execute_input": "2020-10-12T14:00:49.797633Z",
          "iopub.status.busy": "2020-10-12T14:00:49.796778Z",
          "iopub.status.idle": "2020-10-12T14:00:57.182715Z",
          "shell.execute_reply": "2020-10-12T14:00:57.183132Z"
        },
        "pycharm": {
          "is_executing": true
        }
      },
      "outputs": [],
      "source": [
        "from ibm_watson_machine_learning.helpers import DataConnection\n",
        "from ibm_watson_machine_learning.helpers import FSLocation\n",
        "\ntraining_data_references = [\n",
        "    DataConnection(\n",
        "        data_asset_id='data_asset.gosalescsv'\n",
        "    ),\n",
        "]\n",
        "training_result_reference = DataConnection(\n",
        "    location=FSLocation(\n",
        "        path='/projects/8051f31b-9e96-4d18-8777-bcfc5354b42f/assets/auto_ml/auto_ml.testautoaigit/wml_data/9d7cedc7-f451-4558-8196-65348f1a053f/data/automl'\n",
        "    )\n",
        ")"
      ]
    },
    {
      "cell_type": "markdown",
      "metadata": {},
      "source": [
        "Following cell contains input parameters provided to run the AutoAI experiment in Watson Studio."
      ]
    },
    {
      "cell_type": "code",
      "execution_count": null,
      "metadata": {
        "execution": {
          "iopub.execute_input": "2020-10-12T14:00:57.187305Z",
          "iopub.status.busy": "2020-10-12T14:00:57.186602Z",
          "iopub.status.idle": "2020-10-12T14:00:57.188392Z",
          "shell.execute_reply": "2020-10-12T14:00:57.188878Z"
        },
        "pycharm": {
          "name": "#%%\n"
        }
      },
      "outputs": [],
      "source": [
        "experiment_metadata = dict(",
        "\n    prediction_type='multiclass'",
        ",\n    prediction_column='PRODUCT_LINE'",
        ",\n    holdout_size=0.1",
        ",\n    scoring='accuracy'",
        ",\n    csv_separator=','",
        ",\n    random_state=33",
        ",\n    max_number_of_estimators=2",
        ",\n    training_data_references=training_data_references",
        ",\n    training_result_reference=training_result_reference",
        ",\n    project_id='8051f31b-9e96-4d18-8777-bcfc5354b42f'",
        ",\n    drop_duplicates=True",
        "\n)"
      ]
    },
    {
      "cell_type": "markdown",
      "metadata": {},
      "source": [
        "## Set `n_jobs` parameter to the number of available CPUs"
      ]
    },
    {
      "cell_type": "code",
      "execution_count": null,
      "metadata": {},
      "outputs": [],
      "source": [
        "import os, ast\n",
        "CPU_NUMBER = 2\n",
        "if 'RUNTIME_HARDWARE_SPEC' in os.environ:\n",
        "    CPU_NUMBER = int(ast.literal_eval(os.environ['RUNTIME_HARDWARE_SPEC'])['num_cpu'])"
      ]
    },
    {
      "cell_type": "markdown",
      "metadata": {},
      "source": [
        "<a id=\"connection\"></a>\n",
        "## Watson Machine Learning connection\n",
        "\n",
        "This cell defines the credentials required to work with the Watson Machine Learning service."
      ]
    },
    {
      "cell_type": "code",
      "execution_count": null,
      "metadata": {
        "pycharm": {
          "name": "#%%\n"
        }
      },
      "outputs": [],
      "source": [
        "import os\n",
        "\n",
        "wml_credentials = {\n",
        "    \"instance_id\": \"openshift\",\n",
        "    \"token\": os.environ.get(\"USER_ACCESS_TOKEN\"),\n",
        "    \"url\": os.environ.get(\"RUNTIME_ENV_APSX_URL\"),\n",
        "    \"version\": \"4.5\"\n",
        "}"
      ]
    },
    {
      "cell_type": "code",
      "execution_count": null,
      "metadata": {
        "pycharm": {
          "name": "#%%\n"
        }
      },
      "outputs": [],
      "source": [
        "from ibm_watson_machine_learning import APIClient\n\nwml_client = APIClient(wml_credentials)\n\nif 'space_id' in experiment_metadata:\n    wml_client.set.default_space(experiment_metadata['space_id'])\nelse:\n    wml_client.set.default_project(experiment_metadata['project_id'])\n    \ntraining_data_references[0].set_client(wml_client)\n"
      ]
    },
    {
      "cell_type": "markdown",
      "metadata": {},
      "source": [
        "<a id=\"inspection\"></a>\n",
        "# Pipeline inspection"
      ]
    },
    {
      "cell_type": "markdown",
      "metadata": {
        "pycharm": {
          "name": "#%% md\n"
        }
      },
      "source": [
        "<a id=\"read\"></a>\n",
        "## Read training data\n",
        "\n",
        "Retrieve training dataset from AutoAI experiment as pandas DataFrame.  \n",
        "**Note**: If reading data using Flight Server for data connections results in an error, provide data as Pandas DataFrame object, for example, reading .CSV file with `pandas.read_csv()`. It may be necessary to use methods for initial data pre-processing like: e.g. `DataFrame.dropna()`, `DataFrame.drop_duplicates()`, `DataFrame.sample()`."
      ]
    },
    {
      "cell_type": "code",
      "execution_count": null,
      "metadata": {
        "execution": {
          "iopub.execute_input": "2020-10-12T14:01:16.076169Z",
          "iopub.status.busy": "2020-10-12T14:01:16.075589Z",
          "iopub.status.idle": "2020-10-12T14:01:19.190233Z",
          "shell.execute_reply": "2020-10-12T14:01:19.190807Z"
        },
        "pycharm": {
          "is_executing": true,
          "name": "#%%\n"
        }
      },
      "outputs": [],
      "source": [
        "train_X, test_X, train_y, test_y = training_data_references[0].read(experiment_metadata=experiment_metadata, with_holdout_split=True)"
      ]
    },
    {
      "cell_type": "markdown",
      "metadata": {
        "pycharm": {
          "name": "#%% md\n"
        }
      },
      "source": [
        "<a id=\"preview_model_to_python_code\"></a>\n",
        "## Make pipeline\n",
        "In the next cell, you can find the Scikit-learn definition of the selected AutoAI pipeline."
      ]
    },
    {
      "cell_type": "markdown",
      "metadata": {
        "pycharm": {
          "name": "#%% md\n"
        }
      },
      "source": [
        "#### Import statements."
      ]
    },
    {
      "cell_type": "code",
      "execution_count": null,
      "metadata": {
        "pycharm": {
          "is_executing": true,
          "name": "#%%\n"
        }
      },
      "outputs": [],
      "source": "from autoai_libs.transformers.exportable import NumpyColumnSelector\nfrom autoai_libs.transformers.exportable import CompressStrings\nfrom autoai_libs.transformers.exportable import NumpyReplaceMissingValues\nfrom autoai_libs.transformers.exportable import NumpyReplaceUnknownValues\nfrom autoai_libs.transformers.exportable import boolean2float\nfrom autoai_libs.transformers.exportable import CatImputer\nfrom autoai_libs.transformers.exportable import CatEncoder\nimport numpy as np\nfrom autoai_libs.transformers.exportable import float32_transform\nfrom autoai_libs.cognito.transforms.transform_utils import TAM\nimport autoai_libs.cognito.transforms.transform_extras\nfrom autoai_libs.cognito.transforms.transform_utils import FS1\nfrom sklearn.cluster import FeatureAgglomeration\nfrom snapml import SnapSVMClassifier\nfrom sklearn.pipeline import make_pipeline"
    },
    {
      "cell_type": "markdown",
      "metadata": {},
      "source": [
        "#### Pre-processing & Estimator."
      ]
    },
    {
      "cell_type": "code",
      "execution_count": null,
      "metadata": {
        "pycharm": {
          "is_executing": true,
          "name": "#%%\n"
        }
      },
      "outputs": [],
      "source": "numpy_column_selector = NumpyColumnSelector(columns=[0, 1, 2, 3])\ncompress_strings = CompressStrings(\n    compress_type=\"hash\",\n    dtypes_list=[\"char_str\", \"int_num\", \"char_str\", \"char_str\"],\n    missing_values_reference_list=[\"\", \"-\", \"?\", float(\"nan\")],\n    misslist_list=[[], [], [], []],\n)\nnumpy_replace_missing_values = NumpyReplaceMissingValues(\n    missing_values=[], filling_values=float(\"nan\")\n)\nnumpy_replace_unknown_values = NumpyReplaceUnknownValues(\n    filling_values=float(\"nan\"),\n    filling_values_list=[\n        float(\"nan\"), float(\"nan\"), float(\"nan\"), float(\"nan\"),\n    ],\n    missing_values_reference_list=[\"\", \"-\", \"?\", float(\"nan\")],\n)\ncat_imputer = CatImputer(\n    missing_values=float(\"nan\"),\n    sklearn_version_family=\"1\",\n    strategy=\"most_frequent\",\n)\ncat_encoder = CatEncoder(\n    encoding=\"ordinal\",\n    categories=\"auto\",\n    dtype=np.float64,\n    handle_unknown=\"error\",\n    sklearn_version_family=\"1\",\n)\ntam_0 = TAM(\n    tans_class=autoai_libs.cognito.transforms.transform_extras.IsolationForestAnomaly,\n    name=\"isoforestanomaly\",\n    col_names=[\"GENDER\", \"AGE\", \"MARITAL_STATUS\", \"PROFESSION\"],\n    col_dtypes=[\n        np.dtype(\"float32\"), np.dtype(\"float32\"), np.dtype(\"float32\"),\n        np.dtype(\"float32\"),\n    ],\n)\nfs1_0 = FS1(\n    cols_ids_must_keep=range(0, 4),\n    additional_col_count_to_keep=4,\n    ptype=\"classification\",\n)\ntam_1 = TAM(\n    tans_class=FeatureAgglomeration(),\n    name=\"featureagglomeration\",\n    col_names=[\n        \"GENDER\", \"AGE\", \"MARITAL_STATUS\", \"PROFESSION\", \"isoforestanomaly_0\",\n    ],\n    col_dtypes=[\n        np.dtype(\"float32\"), np.dtype(\"float32\"), np.dtype(\"float32\"),\n        np.dtype(\"float32\"), np.dtype(\"int64\"),\n    ],\n)\nfs1_1 = FS1(\n    cols_ids_must_keep=range(0, 4),\n    additional_col_count_to_keep=4,\n    ptype=\"classification\",\n)\nsnap_svm_classifier = SnapSVMClassifier(\n    class_weight=\"balanced\",\n    device_ids=np.array([0], dtype=np.uint32),\n    n_jobs=CPU_NUMBER,\n    random_state=33,\n)\n"
    },
    {
      "cell_type": "markdown",
      "metadata": {},
      "source": [
        "#### Pipeline."
      ]
    },
    {
      "cell_type": "code",
      "execution_count": null,
      "metadata": {
        "pycharm": {
          "is_executing": true,
          "name": "#%%\n"
        }
      },
      "outputs": [],
      "source": "pipeline = make_pipeline(\n    numpy_column_selector,\n    compress_strings,\n    numpy_replace_missing_values,\n    numpy_replace_unknown_values,\n    boolean2float(),\n    cat_imputer,\n    cat_encoder,\n    float32_transform(),\n    tam_0,\n    fs1_0,\n    tam_1,\n    fs1_1,\n    snap_svm_classifier,\n)"
    },
    {
      "cell_type": "markdown",
      "metadata": {},
      "source": [
        "<a id=\"train\"></a>\n",
        "## Train pipeline model\n"
      ]
    },
    {
      "cell_type": "markdown",
      "metadata": {
        "pycharm": {
          "name": "#%% md\n"
        }
      },
      "source": [
        "### Define scorer from the optimization metric\n",
        "This cell constructs the cell scorer based on the experiment metadata."
      ]
    },
    {
      "cell_type": "code",
      "execution_count": null,
      "metadata": {
        "pycharm": {
          "is_executing": true,
          "name": "#%%\n"
        }
      },
      "outputs": [],
      "source": [
        "from sklearn.metrics import get_scorer\n\n",
        "scorer = get_scorer(experiment_metadata['scoring'])"
      ]
    },
    {
      "cell_type": "markdown",
      "metadata": {
        "pycharm": {
          "name": "#%% md\n"
        }
      },
      "source": [
        "<a id=\"test_model\"></a>\n",
        "### Fit pipeline model\n",
        "In this cell, the pipeline is fitted."
      ]
    },
    {
      "cell_type": "code",
      "execution_count": null,
      "metadata": {
        "execution": {
          "iopub.execute_input": "2020-10-12T14:01:19.291734Z",
          "iopub.status.busy": "2020-10-12T14:01:19.244735Z",
          "iopub.status.idle": "2020-10-12T14:01:19.338461Z",
          "shell.execute_reply": "2020-10-12T14:01:19.338958Z"
        },
        "pycharm": {
          "is_executing": true,
          "name": "#%%\n"
        },
        "scrolled": true
      },
      "outputs": [],
      "source": [
        "pipeline.fit(train_X.values, train_y.values.ravel());"
      ]
    },
    {
      "cell_type": "markdown",
      "metadata": {},
      "source": [
        "<a id=\"test_model\"></a>\n",
        "## Test pipeline model"
      ]
    },
    {
      "cell_type": "markdown",
      "metadata": {
        "pycharm": {
          "name": "#%% md\n"
        }
      },
      "source": [
        "Score the fitted pipeline with the generated scorer using the holdout dataset."
      ]
    },
    {
      "cell_type": "code",
      "execution_count": null,
      "metadata": {
        "execution": {
          "iopub.execute_input": "2020-10-12T14:02:03.910267Z",
          "iopub.status.busy": "2020-10-12T14:02:03.909710Z",
          "iopub.status.idle": "2020-10-12T14:02:03.914154Z",
          "shell.execute_reply": "2020-10-12T14:02:03.914727Z"
        },
        "pycharm": {
          "is_executing": true,
          "name": "#%%\n"
        }
      },
      "outputs": [],
      "source": [
        "score = scorer(pipeline, test_X.values, test_y.values)\n",
        "print(score)"
      ]
    },
    {
      "cell_type": "code",
      "execution_count": null,
      "metadata": {
        "pycharm": {
          "name": "#%%\n"
        }
      },
      "outputs": [],
      "source": [
        "pipeline.predict(test_X.values)"
      ]
    },
    {
      "cell_type": "markdown",
      "metadata": {},
      "source": [
        "<a id=\"summary_and_next_steps\"></a>\n",
        "# Summary and next steps\n",
        "You successfully completed this notebook!\n",
        "You learned how to use AutoAI pipeline definition to train the model.\n",
        "Check out our [Online Documentation](https://www.ibm.com/support/producthub/icpdata/docs/content/SSQNUZ_latest/cpd/overview/relnotes-4.0.html) for more samples, tutorials, documentation, how-tos, and blog posts."
      ]
    },
    {
      "cell_type": "markdown",
      "metadata": {},
      "source": [
        "<a id=\"copyrights\"></a>\n",
        "### Copyrights\n",
        "\n",
        "Licensed Materials - Copyright \u00a9 2022 IBM. This notebook and its source code are released under the terms of the ILAN License. Use, duplication disclosure restricted by GSA ADP Schedule Contract with IBM Corp.\n",
        "\n",
        "**Note:** The auto-generated notebooks are subject to the International License Agreement for Non-Warranted Programs (or equivalent) and License Information document for Watson Studio Auto-generated Notebook (License Terms), such agreements located in the link below. Specifically, the Source Components and Sample Materials clause included in the License Information document for Watson Studio Auto-generated Notebook applies to the auto-generated notebooks.  \n",
        "\n",
        "By downloading, copying, accessing, or otherwise using the materials, you agree to the <a href=\"http://www14.software.ibm.com/cgi-bin/weblap/lap.pl?li_formnum=L-AMCU-BYC7LF\">License Terms</a>\n",
        "\n",
        "___"
      ]
    }
  ],
  "metadata": {
    "kernelspec": {
      "display_name": "Python 3 (ipykernel)",
      "language": "python",
      "name": "python3"
    },
    "language_info": {
      "codemirror_mode": {
        "name": "ipython",
        "version": 3
      },
      "file_extension": ".py",
      "mimetype": "text/x-python",
      "name": "python",
      "nbconvert_exporter": "python",
      "pygments_lexer": "ipython3",
      "version": "3.8.10"
    }
  },
  "nbformat": 4,
  "nbformat_minor": 2
}
